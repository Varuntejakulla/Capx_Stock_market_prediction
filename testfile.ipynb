{
 "cells": [
  {
   "cell_type": "code",
   "execution_count": 35,
   "metadata": {},
   "outputs": [
    {
     "name": "stdout",
     "output_type": "stream",
     "text": [
      "Found 4 tweets on scroll 1\n",
      "Found 6 tweets on scroll 2\n",
      "Found 3 tweets on scroll 3\n",
      "Found 3 tweets on scroll 4\n",
      "Found 4 tweets on scroll 5\n",
      "Found 5 tweets on scroll 6\n",
      "Found 4 tweets on scroll 7\n",
      "Found 3 tweets on scroll 8\n",
      "Found 3 tweets on scroll 9\n",
      "Found 3 tweets on scroll 10\n",
      "Error saving file: [Errno 13] Permission denied: './data files/scrapingraw.csv'\n"
     ]
    }
   ],
   "source": [
    "!python ./src/scraping.py"
   ]
  },
  {
   "cell_type": "code",
   "execution_count": 40,
   "metadata": {},
   "outputs": [
    {
     "name": "stdout",
     "output_type": "stream",
     "text": [
      "Data including tweets, mentions, stock classification, sentiment, and timestamps saved to ./data files/complete_data.csv\n"
     ]
    }
   ],
   "source": [
    "!python ./src/process.py"
   ]
  },
  {
   "cell_type": "markdown",
   "metadata": {},
   "source": []
  }
 ],
 "metadata": {
  "kernelspec": {
   "display_name": "Python 3",
   "language": "python",
   "name": "python3"
  },
  "language_info": {
   "codemirror_mode": {
    "name": "ipython",
    "version": 3
   },
   "file_extension": ".py",
   "mimetype": "text/x-python",
   "name": "python",
   "nbconvert_exporter": "python",
   "pygments_lexer": "ipython3",
   "version": "3.10.1"
  }
 },
 "nbformat": 4,
 "nbformat_minor": 2
}
